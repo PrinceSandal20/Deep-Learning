{
  "nbformat": 4,
  "nbformat_minor": 0,
  "metadata": {
    "colab": {
      "provenance": []
    },
    "kernelspec": {
      "display_name": "Python 3",
      "name": "python3"
    },
    "language_info": {
      "name": "python"
    }
  },
  "cells": [
    {
      "cell_type": "code",
      "metadata": {
        "id": "dr2AcoOG9E5y"
      },
      "source": [
        "import numpy as np\n",
        "from random import randint\n",
        "from sklearn.utils import shuffle\n",
        "from sklearn.preprocessing import MinMaxScaler"
      ],
      "execution_count": null,
      "outputs": []
    },
    {
      "cell_type": "code",
      "metadata": {
        "id": "G9Fg4my4-YTx"
      },
      "source": [
        "train_labels=[]\n",
        "train_samples=[]"
      ],
      "execution_count": null,
      "outputs": []
    },
    {
      "cell_type": "code",
      "metadata": {
        "id": "m8MuSj6U-y7T"
      },
      "source": [
        "for i in range(50):\n",
        "  random_younger=randint(13,64)  # 5% of younger individuals who did experience side effects\n",
        "  train_samples.append(random_younger)\n",
        "  train_labels.append(1)\n",
        "\n",
        "  random_older=randint(65,100)  # 5% of older individuals who did not experience side effects\n",
        "  train_samples.append(random_older)\n",
        "  train_labels.append(0)\n",
        "\n",
        "for i in range(1000):\n",
        "  random_younger=randint(13,64)  # 95% of younger individuals who did not experience side effects\n",
        "  train_samples.append(random_younger)\n",
        "  train_labels.append(0)\n",
        "\n",
        "  random_older=randint(65,100)  # 95% of older individuals who did experience side effects\n",
        "  train_samples.append(random_older)\n",
        "  train_labels.append(1)"
      ],
      "execution_count": null,
      "outputs": []
    },
    {
      "cell_type": "code",
      "metadata": {
        "id": "_J5iihdA_WJe"
      },
      "source": [
        "for i in range(1000):\n",
        "  random_younger=randint(13,64)  # 95% of younger individuals who did not experience side effects\n",
        "  train_samples.append(random_younger)\n",
        "  train_labels.append(0)\n",
        "\n",
        "  random_older=randint(65,100)  # 95% of older individuals who did experience side effects\n",
        "  train_samples.append(random_older)\n",
        "  train_labels.append(1)"
      ],
      "execution_count": null,
      "outputs": []
    },
    {
      "cell_type": "code",
      "metadata": {
        "id": "EqPcStW6AsFV"
      },
      "source": [
        "for i in train_samples:\n",
        "  print(i)"
      ],
      "execution_count": null,
      "outputs": []
    },
    {
      "cell_type": "code",
      "metadata": {
        "id": "01vFrdiCBBD2"
      },
      "source": [
        "for i in train_labels:\n",
        "  print(i)"
      ],
      "execution_count": null,
      "outputs": []
    },
    {
      "cell_type": "code",
      "metadata": {
        "id": "0QiQ-CfwBaya"
      },
      "source": [
        "#converting to numpy array and shuffling\n",
        "\n",
        "train_labels=np.array(train_labels)\n",
        "train_samples=np.array(train_samples)\n",
        "train_labels,train_samples=shuffle(train_labels,train_samples)"
      ],
      "execution_count": null,
      "outputs": []
    },
    {
      "cell_type": "code",
      "metadata": {
        "id": "zuboPQTYB09X"
      },
      "source": [
        "#feature scaling with minmax scaler\n",
        "Scaler=MinMaxScaler(feature_range=(0,1))\n",
        "scaled_train_samples=Scaler.fit_transform(train_samples.reshape(-1,1))"
      ],
      "execution_count": null,
      "outputs": []
    },
    {
      "cell_type": "code",
      "metadata": {
        "id": "HIujvN1XCr-H"
      },
      "source": [
        "for i in scaled_train_samples:\n",
        "  print(i)"
      ],
      "execution_count": null,
      "outputs": []
    },
    {
      "cell_type": "code",
      "metadata": {
        "id": "j4iLPdrYDS3k"
      },
      "source": [
        "import tensorflow as tf\n",
        "from tensorflow import keras\n",
        "from tensorflow.keras.models import Sequential\n",
        "from tensorflow.keras.layers import Activation,Dense\n",
        "from tensorflow.keras.optimizers import Adam\n",
        "from tensorflow.keras.metrics import categorical_crossentropy"
      ],
      "execution_count": null,
      "outputs": []
    },
    {
      "cell_type": "markdown",
      "source": [
        "The documentation of keras tensorflow package can be found in the below link\n",
        "\n",
        "https://www.tensorflow.org/api_docs/python/tf/keras\n",
        "\n",
        "we will using activation and models in the documentation list to start with.\n",
        "\n",
        "Learn more about the sequential model here\n",
        "\n",
        "https://www.tensorflow.org/guide/keras/sequential_model"
      ],
      "metadata": {
        "id": "oQHwJWxtLLVf"
      }
    },
    {
      "cell_type": "code",
      "metadata": {
        "id": "riPdSHfPHIqt"
      },
      "source": [
        "#Specifying only the architecture of the model\n",
        "\n",
        "model=Sequential([                                                      #dense means fully connected layer in ANN\n",
        "                  Dense(units=16, input_shape=(1,), activation='relu'), # 1 hidden layer with 16 nodes with relu activation, input shape is an optional parameter\n",
        "                  Dense(units=32, activation='relu'),                   # 2 hidden layer with 32 nodes with relu activation\n",
        "                  Dense(units=2, activation='softmax')                  # output layer with 2 possible outcomes with softmax activation\n",
        "])"
      ],
      "execution_count": null,
      "outputs": []
    },
    {
      "cell_type": "markdown",
      "source": [
        "Calculation of parameters:\n",
        "\n",
        "In the first hidden layer, there are 16 neurons. The input layer is having size of (1,m). With one feature input and 16 neurons, \n",
        "\n",
        "W[1] => 1 x 16 <br>\n",
        "b[1] => 1 x 16 (each neuron has one bias term)\n",
        "\n",
        "Hence the total number of parameters associated with first layer is **16+16=32**\n",
        "\n",
        "In the second hidden layer, there are 32 neurons.<br>\n",
        "W[2] => 16 x 32 <br>\n",
        "b[2] => 1 x 32 (each neuron has one bias term)\n",
        "\n",
        "Hence the total number of parameters associated with first layer is **512+32=544**\n",
        "\n",
        "In the third hidden layer, there are 2 neurons.<br>\n",
        "W[3] => 32 x 2 <br>\n",
        "b[3] => 1 x 2 (each neuron has one bias term)\n",
        "\n",
        "Hence the total number of parameters associated with first layer is **64+2=66**\n",
        "\n",
        "The total number of learnable parameters in the  model is given by\n",
        "\n",
        "= **32+544+66=642**\n",
        "\n",
        "model.summary() will give the complete details of the learnable parameter in the model\n"
      ],
      "metadata": {
        "id": "NwYzSAZUU1N3"
      }
    },
    {
      "cell_type": "code",
      "metadata": {
        "colab": {
          "base_uri": "https://localhost:8080/"
        },
        "id": "8nzIKm9iKFQG",
        "outputId": "2112c0e6-7d2f-4576-dc73-c7854ce247c8"
      },
      "source": [
        "model.summary()"
      ],
      "execution_count": null,
      "outputs": [
        {
          "output_type": "stream",
          "name": "stdout",
          "text": [
            "Model: \"sequential_9\"\n",
            "_________________________________________________________________\n",
            " Layer (type)                Output Shape              Param #   \n",
            "=================================================================\n",
            " dense_27 (Dense)            (None, 16)                32        \n",
            "                                                                 \n",
            " dense_28 (Dense)            (None, 32)                544       \n",
            "                                                                 \n",
            " dense_29 (Dense)            (None, 2)                 66        \n",
            "                                                                 \n",
            "=================================================================\n",
            "Total params: 642\n",
            "Trainable params: 642\n",
            "Non-trainable params: 0\n",
            "_________________________________________________________________\n"
          ]
        }
      ]
    },
    {
      "cell_type": "markdown",
      "source": [
        "\n",
        "Once the model is created, you can config the model with losses and metrics with model.compile(), train the model with model.fit(), or use the model to do prediction with model.predict().\n",
        "\n",
        "https://www.tensorflow.org/api_docs/python/tf/keras/Model\n",
        "\n",
        "Different losses associated with tensorflow packages are given in the link below\n",
        "\n",
        "https://www.tensorflow.org/api_docs/python/tf/keras/losses\n",
        "\n",
        "Different metrices associated with tensorflow packages are given in the link below\n",
        "\n",
        "https://www.tensorflow.org/api_docs/python/tf/keras/metrics\n",
        "\n"
      ],
      "metadata": {
        "id": "sxQ-U_IYPe3X"
      }
    },
    {
      "cell_type": "code",
      "metadata": {
        "id": "BXiu22GNMCSt"
      },
      "source": [
        "model.compile(optimizer=Adam(learning_rate=0.0001),loss='sparse_categorical_crossentropy',metrics=['accuracy']) "
      ],
      "execution_count": null,
      "outputs": []
    },
    {
      "cell_type": "markdown",
      "source": [
        "https://www.tensorflow.org/api_docs/python/tf/keras/Model\n",
        "\n"
      ],
      "metadata": {
        "id": "KtMaoP65REcl"
      }
    },
    {
      "cell_type": "markdown",
      "source": [],
      "metadata": {
        "id": "pgX2D7gyREZg"
      }
    },
    {
      "cell_type": "code",
      "metadata": {
        "colab": {
          "base_uri": "https://localhost:8080/"
        },
        "id": "d-G1oKR8Mv8Q",
        "outputId": "5919f189-289f-47aa-8e43-de06dde8f8aa"
      },
      "source": [
        "model.fit(x=scaled_train_samples,y=train_labels,validation_split=0.1,batch_size=10,epochs=30,shuffle=True,verbose=2)  # in train set shuffle=true by default"
      ],
      "execution_count": null,
      "outputs": [
        {
          "output_type": "stream",
          "name": "stdout",
          "text": [
            "Epoch 1/30\n",
            "369/369 - 1s - loss: 0.7277 - accuracy: 0.3978 - val_loss: 0.6925 - val_accuracy: 0.5854 - 1s/epoch - 4ms/step\n",
            "Epoch 2/30\n",
            "369/369 - 1s - loss: 0.6566 - accuracy: 0.6995 - val_loss: 0.6211 - val_accuracy: 0.7780 - 601ms/epoch - 2ms/step\n",
            "Epoch 3/30\n",
            "369/369 - 1s - loss: 0.5917 - accuracy: 0.7954 - val_loss: 0.5641 - val_accuracy: 0.8366 - 588ms/epoch - 2ms/step\n",
            "Epoch 4/30\n",
            "369/369 - 1s - loss: 0.5328 - accuracy: 0.8401 - val_loss: 0.5032 - val_accuracy: 0.8659 - 570ms/epoch - 2ms/step\n",
            "Epoch 5/30\n",
            "369/369 - 1s - loss: 0.4720 - accuracy: 0.8732 - val_loss: 0.4417 - val_accuracy: 0.8976 - 611ms/epoch - 2ms/step\n",
            "Epoch 6/30\n",
            "369/369 - 1s - loss: 0.4144 - accuracy: 0.8986 - val_loss: 0.3867 - val_accuracy: 0.8976 - 608ms/epoch - 2ms/step\n",
            "Epoch 7/30\n",
            "369/369 - 1s - loss: 0.3654 - accuracy: 0.9084 - val_loss: 0.3405 - val_accuracy: 0.9268 - 590ms/epoch - 2ms/step\n",
            "Epoch 8/30\n",
            "369/369 - 1s - loss: 0.3259 - accuracy: 0.9263 - val_loss: 0.3043 - val_accuracy: 0.9366 - 573ms/epoch - 2ms/step\n",
            "Epoch 9/30\n",
            "369/369 - 1s - loss: 0.2950 - accuracy: 0.9382 - val_loss: 0.2756 - val_accuracy: 0.9366 - 607ms/epoch - 2ms/step\n",
            "Epoch 10/30\n",
            "369/369 - 1s - loss: 0.2717 - accuracy: 0.9404 - val_loss: 0.2542 - val_accuracy: 0.9512 - 605ms/epoch - 2ms/step\n",
            "Epoch 11/30\n",
            "369/369 - 1s - loss: 0.2536 - accuracy: 0.9431 - val_loss: 0.2381 - val_accuracy: 0.9610 - 586ms/epoch - 2ms/step\n",
            "Epoch 12/30\n",
            "369/369 - 1s - loss: 0.2400 - accuracy: 0.9534 - val_loss: 0.2253 - val_accuracy: 0.9610 - 574ms/epoch - 2ms/step\n",
            "Epoch 13/30\n",
            "369/369 - 1s - loss: 0.2296 - accuracy: 0.9542 - val_loss: 0.2151 - val_accuracy: 0.9610 - 606ms/epoch - 2ms/step\n",
            "Epoch 14/30\n",
            "369/369 - 1s - loss: 0.2211 - accuracy: 0.9556 - val_loss: 0.2073 - val_accuracy: 0.9610 - 612ms/epoch - 2ms/step\n",
            "Epoch 15/30\n",
            "369/369 - 1s - loss: 0.2145 - accuracy: 0.9621 - val_loss: 0.2005 - val_accuracy: 0.9610 - 589ms/epoch - 2ms/step\n",
            "Epoch 16/30\n",
            "369/369 - 1s - loss: 0.2094 - accuracy: 0.9564 - val_loss: 0.1956 - val_accuracy: 0.9610 - 578ms/epoch - 2ms/step\n",
            "Epoch 17/30\n",
            "369/369 - 1s - loss: 0.2048 - accuracy: 0.9583 - val_loss: 0.1920 - val_accuracy: 0.9707 - 595ms/epoch - 2ms/step\n",
            "Epoch 18/30\n",
            "369/369 - 1s - loss: 0.2012 - accuracy: 0.9615 - val_loss: 0.1875 - val_accuracy: 0.9707 - 613ms/epoch - 2ms/step\n",
            "Epoch 19/30\n",
            "369/369 - 1s - loss: 0.1979 - accuracy: 0.9634 - val_loss: 0.1846 - val_accuracy: 0.9707 - 578ms/epoch - 2ms/step\n",
            "Epoch 20/30\n",
            "369/369 - 1s - loss: 0.1952 - accuracy: 0.9623 - val_loss: 0.1821 - val_accuracy: 0.9707 - 579ms/epoch - 2ms/step\n",
            "Epoch 21/30\n",
            "369/369 - 1s - loss: 0.1929 - accuracy: 0.9642 - val_loss: 0.1796 - val_accuracy: 0.9707 - 575ms/epoch - 2ms/step\n",
            "Epoch 22/30\n",
            "369/369 - 1s - loss: 0.1908 - accuracy: 0.9631 - val_loss: 0.1783 - val_accuracy: 0.9707 - 576ms/epoch - 2ms/step\n",
            "Epoch 23/30\n",
            "369/369 - 1s - loss: 0.1888 - accuracy: 0.9642 - val_loss: 0.1759 - val_accuracy: 0.9707 - 586ms/epoch - 2ms/step\n",
            "Epoch 24/30\n",
            "369/369 - 1s - loss: 0.1870 - accuracy: 0.9642 - val_loss: 0.1743 - val_accuracy: 0.9707 - 559ms/epoch - 2ms/step\n",
            "Epoch 25/30\n",
            "369/369 - 1s - loss: 0.1853 - accuracy: 0.9640 - val_loss: 0.1735 - val_accuracy: 0.9707 - 598ms/epoch - 2ms/step\n",
            "Epoch 26/30\n",
            "369/369 - 1s - loss: 0.1839 - accuracy: 0.9642 - val_loss: 0.1717 - val_accuracy: 0.9707 - 584ms/epoch - 2ms/step\n",
            "Epoch 27/30\n",
            "369/369 - 1s - loss: 0.1824 - accuracy: 0.9645 - val_loss: 0.1702 - val_accuracy: 0.9707 - 580ms/epoch - 2ms/step\n",
            "Epoch 28/30\n",
            "369/369 - 1s - loss: 0.1810 - accuracy: 0.9642 - val_loss: 0.1693 - val_accuracy: 0.9707 - 577ms/epoch - 2ms/step\n",
            "Epoch 29/30\n",
            "369/369 - 1s - loss: 0.1797 - accuracy: 0.9645 - val_loss: 0.1687 - val_accuracy: 0.9780 - 600ms/epoch - 2ms/step\n",
            "Epoch 30/30\n",
            "369/369 - 1s - loss: 0.1786 - accuracy: 0.9667 - val_loss: 0.1671 - val_accuracy: 0.9707 - 572ms/epoch - 2ms/step\n"
          ]
        },
        {
          "output_type": "execute_result",
          "data": {
            "text/plain": [
              "<keras.callbacks.History at 0x7f0e7577fdf0>"
            ]
          },
          "metadata": {},
          "execution_count": 40
        }
      ]
    },
    {
      "cell_type": "markdown",
      "metadata": {
        "id": "5cmlss5hRre4"
      },
      "source": [
        "## Preprocess test set"
      ]
    },
    {
      "cell_type": "code",
      "metadata": {
        "id": "FyjR3sFZRyPx"
      },
      "source": [
        "test_labels=[]\n",
        "test_samples=[]\n"
      ],
      "execution_count": null,
      "outputs": []
    },
    {
      "cell_type": "code",
      "metadata": {
        "id": "zoORolYlUwN7"
      },
      "source": [
        "for i in range(10):\n",
        "  random_younger=randint(13,64)  # 5% of younger individuals who did experience side effects\n",
        "  test_samples.append(random_younger)\n",
        "  test_labels.append(1)\n",
        "\n",
        "  random_older=randint(65,100)  # 5% of older individuals who did not experience side effects\n",
        "  test_samples.append(random_older)\n",
        "  test_labels.append(0)\n",
        "\n",
        "for i in range(200):\n",
        "  random_younger=randint(13,64)  # 95% of younger individuals who did not experience side effects\n",
        "  test_samples.append(random_younger)\n",
        "  test_labels.append(0)\n",
        "\n",
        "  random_older=randint(65,100)  # 95% of older individuals who did experience side effects\n",
        "  test_samples.append(random_older)\n",
        "  test_labels.append(1)"
      ],
      "execution_count": null,
      "outputs": []
    },
    {
      "cell_type": "code",
      "metadata": {
        "id": "gnmhjsA9VFaS"
      },
      "source": [
        "test_labels=np.array(test_labels)\n",
        "test_samples=np.array(test_samples)\n",
        "test_labels,test_samples=shuffle(test_labels,test_samples)"
      ],
      "execution_count": null,
      "outputs": []
    },
    {
      "cell_type": "code",
      "metadata": {
        "id": "Qjw-dnMVWJe9"
      },
      "source": [
        "scaled_test_samples=Scaler.fit_transform(test_samples.reshape(-1,1))"
      ],
      "execution_count": null,
      "outputs": []
    },
    {
      "cell_type": "markdown",
      "metadata": {
        "id": "21te4jaKW5WP"
      },
      "source": [
        "## Predict"
      ]
    },
    {
      "cell_type": "code",
      "metadata": {
        "id": "yTzrRWfyW9NE"
      },
      "source": [
        "predictions=model.predict(x=scaled_test_samples,batch_size=10,verbose=0)"
      ],
      "execution_count": null,
      "outputs": []
    },
    {
      "cell_type": "code",
      "metadata": {
        "colab": {
          "base_uri": "https://localhost:8080/"
        },
        "id": "7KS9g8vPXY14",
        "outputId": "919379be-06b6-4832-c7f6-6e902f82d261"
      },
      "source": [
        "for i in predictions:\n",
        "  print(i)"
      ],
      "execution_count": null,
      "outputs": [
        {
          "output_type": "stream",
          "name": "stdout",
          "text": [
            "[0.980114   0.01988599]\n",
            "[0.98631376 0.01368614]\n",
            "[0.00744287 0.99255717]\n",
            "[0.9869469  0.01305298]\n",
            "[0.98631376 0.01368614]\n",
            "[0.01160218 0.9883977 ]\n",
            "[0.98731303 0.01268706]\n",
            "[0.97741944 0.0225805 ]\n",
            "[0.02150986 0.9784902 ]\n",
            "[0.01970218 0.98029774]\n",
            "[0.43235013 0.5676498 ]\n",
            "[0.98631376 0.01368614]\n",
            "[0.00744287 0.99255717]\n",
            "[0.04308746 0.9569126 ]\n",
            "[0.65859586 0.34140417]\n",
            "[0.98631376 0.01368614]\n",
            "[0.9494403  0.05055967]\n",
            "[0.98618364 0.01381636]\n",
            "[0.9494403  0.05055967]\n",
            "[0.9252304  0.07476958]\n",
            "[0.98631376 0.01368614]\n",
            "[0.04308746 0.9569126 ]\n",
            "[0.97085    0.02915008]\n",
            "[0.0088911  0.99110895]\n",
            "[0.086161 0.913839]\n",
            "[0.9883509  0.01164895]\n",
            "[0.97741944 0.0225805 ]\n",
            "[0.00744287 0.99255717]\n",
            "[0.9875513  0.01244874]\n",
            "[0.98657066 0.01342932]\n",
            "[0.70876044 0.2912395 ]\n",
            "[0.54794896 0.45205104]\n",
            "[0.98441255 0.01558736]\n",
            "[0.1302709 0.869729 ]\n",
            "[0.9494403  0.05055967]\n",
            "[0.00813508 0.99186486]\n",
            "[0.04693798 0.95306194]\n",
            "[0.7947873  0.20521265]\n",
            "[0.65859586 0.34140417]\n",
            "[0.9883996  0.01160032]\n",
            "[0.1302709 0.869729 ]\n",
            "[0.1302709 0.869729 ]\n",
            "[0.9856504  0.01434958]\n",
            "[0.2750294 0.7249707]\n",
            "[0.15892643 0.84107363]\n",
            "[0.9856504  0.01434958]\n",
            "[0.00813508 0.99186486]\n",
            "[0.02796012 0.97203994]\n",
            "[0.19249028 0.8075097 ]\n",
            "[0.03326683 0.9667332 ]\n",
            "[0.7947873  0.20521265]\n",
            "[0.02150986 0.9784902 ]\n",
            "[0.97085    0.02915008]\n",
            "[0.98707014 0.01292987]\n",
            "[0.01512733 0.9848727 ]\n",
            "[0.9855139  0.01448601]\n",
            "[0.9874326  0.01256734]\n",
            "[0.2750294 0.7249707]\n",
            "[0.98694694 0.01305298]\n",
            "[0.9881279  0.01187214]\n",
            "[0.06153506 0.938465  ]\n",
            "[0.02562458 0.9743753 ]\n",
            "[0.086161 0.913839]\n",
            "[0.23119384 0.76880616]\n",
            "[0.01804363 0.98195636]\n",
            "[0.98441255 0.01558736]\n",
            "[0.98631376 0.01368614]\n",
            "[0.00971669 0.9902833 ]\n",
            "[0.01970218 0.98029774]\n",
            "[0.70876044 0.2912395 ]\n",
            "[0.05111423 0.9488858 ]\n",
            "[0.1302709 0.869729 ]\n",
            "[0.7947873  0.20521265]\n",
            "[0.00744287 0.99255717]\n",
            "[0.01652233 0.9834777 ]\n",
            "[0.01512733 0.9848727 ]\n",
            "[0.9881278  0.01187214]\n",
            "[0.9883509  0.01164895]\n",
            "[0.03953968 0.96046036]\n",
            "[0.01804363 0.9819564 ]\n",
            "[0.98578566 0.0142144 ]\n",
            "[0.02562458 0.9743753 ]\n",
            "[0.7543036  0.24569626]\n",
            "[0.9869469  0.01305298]\n",
            "[0.60461086 0.39538914]\n",
            "[0.10613018 0.8938698 ]\n",
            "[0.02796012 0.97203994]\n",
            "[0.93851984 0.06148026]\n",
            "[0.49001595 0.5099841 ]\n",
            "[0.9881279  0.01187214]\n",
            "[0.9869469  0.01305298]\n",
            "[0.43235013 0.5676498 ]\n",
            "[0.9879847  0.01201527]\n",
            "[0.06153506 0.938465  ]\n",
            "[0.980114   0.01988599]\n",
            "[0.01970218 0.9802977 ]\n",
            "[0.9883996  0.01160032]\n",
            "[0.2750294 0.7249707]\n",
            "[0.27502936 0.72497064]\n",
            "[0.07067467 0.92932534]\n",
            "[0.02796012 0.97203994]\n",
            "[0.97741944 0.0225805 ]\n",
            "[0.06153506 0.938465  ]\n",
            "[0.9875513  0.01244874]\n",
            "[0.02562458 0.9743753 ]\n",
            "[0.9869469  0.01305298]\n",
            "[0.9658346  0.03416543]\n",
            "[0.01970218 0.9802977 ]\n",
            "[0.00813508 0.99186486]\n",
            "[0.05111423 0.9488858 ]\n",
            "[0.32367697 0.67632306]\n",
            "[0.00744287 0.99255717]\n",
            "[0.98249274 0.01750724]\n",
            "[0.98707014 0.01292987]\n",
            "[0.98605204 0.0139478 ]\n",
            "[0.03326683 0.9667332 ]\n",
            "[0.9879005  0.01209954]\n",
            "[0.98604405 0.01395585]\n",
            "[0.9824928  0.01750724]\n",
            "[0.01384845 0.9861515 ]\n",
            "[0.15892643 0.84107363]\n",
            "[0.8860497  0.11395019]\n",
            "[0.98824    0.01176002]\n",
            "[0.19249028 0.8075097 ]\n",
            "[0.04308746 0.9569126 ]\n",
            "[0.05111423 0.9488858 ]\n",
            "[0.01970218 0.9802977 ]\n",
            "[0.98669726 0.0133027 ]\n",
            "[0.23119384 0.76880616]\n",
            "[0.65859586 0.34140417]\n",
            "[0.04693798 0.95306194]\n",
            "[0.01267629 0.9873236 ]\n",
            "[0.8301027  0.16989735]\n",
            "[0.9585069  0.04149313]\n",
            "[0.1302709 0.869729 ]\n",
            "[0.92523044 0.07476959]\n",
            "[0.00813508 0.99186486]\n",
            "[0.03627297 0.963727  ]\n",
            "[0.4323502  0.56764984]\n",
            "[0.01267629 0.9873237 ]\n",
            "[0.03953969 0.9604604 ]\n",
            "[0.01061812 0.98938185]\n",
            "[0.086161 0.913839]\n",
            "[0.01160218 0.9883977 ]\n",
            "[0.01267629 0.9873236 ]\n",
            "[0.98644286 0.01355714]\n",
            "[0.98824    0.01176002]\n",
            "[0.9869469  0.01305298]\n",
            "[0.9876688  0.01233125]\n",
            "[0.03953968 0.96046036]\n",
            "[0.07067467 0.92932534]\n",
            "[0.9874326  0.01256734]\n",
            "[0.03050189 0.96949816]\n",
            "[0.01970218 0.9802977 ]\n",
            "[0.98801464 0.01198531]\n",
            "[0.98669726 0.0133027 ]\n",
            "[0.07067467 0.92932534]\n",
            "[0.7947873  0.20521265]\n",
            "[0.9883996  0.01160032]\n",
            "[0.98578566 0.0142144 ]\n",
            "[0.03326683 0.9667332 ]\n",
            "[0.10613018 0.8938698 ]\n",
            "[0.98441255 0.01558736]\n",
            "[0.98631376 0.01368614]\n",
            "[0.01804363 0.98195636]\n",
            "[0.98719215 0.01280789]\n",
            "[0.03326683 0.9667332 ]\n",
            "[0.9869469  0.01305298]\n",
            "[0.9871185  0.01288156]\n",
            "[0.00813508 0.99186486]\n",
            "[0.9743694  0.02563059]\n",
            "[0.97741944 0.0225805 ]\n",
            "[0.01804363 0.98195636]\n",
            "[0.01804363 0.98195636]\n",
            "[0.23119384 0.76880616]\n",
            "[0.086161 0.913839]\n",
            "[0.19249028 0.8075097 ]\n",
            "[0.01512733 0.9848727 ]\n",
            "[0.98743266 0.01256734]\n",
            "[0.01512733 0.9848727 ]\n",
            "[0.06153506 0.938465  ]\n",
            "[0.02562458 0.9743753 ]\n",
            "[0.65859586 0.34140417]\n",
            "[0.9585069  0.04149313]\n",
            "[0.19249028 0.8075097 ]\n",
            "[0.980114   0.01988599]\n",
            "[0.98719215 0.01280789]\n",
            "[0.10613018 0.8938698 ]\n",
            "[0.04693798 0.95306206]\n",
            "[0.97436935 0.02563059]\n",
            "[0.9074877 0.0925122]\n",
            "[0.9881278  0.01187214]\n",
            "[0.98631376 0.01368614]\n",
            "[0.98801464 0.01198531]\n",
            "[0.9856504  0.01434958]\n",
            "[0.98249274 0.01750724]\n",
            "[0.97741944 0.0225805 ]\n",
            "[0.086161 0.913839]\n",
            "[0.98824    0.01176002]\n",
            "[0.07067467 0.92932534]\n",
            "[0.10613018 0.8938698 ]\n",
            "[0.0234794  0.97652066]\n",
            "[0.8860497  0.11395019]\n",
            "[0.9868228  0.01317726]\n",
            "[0.05564038 0.9443596 ]\n",
            "[0.98631376 0.01368614]\n",
            "[0.98766875 0.01233124]\n",
            "[0.05111423 0.9488858 ]\n",
            "[0.02796012 0.9720399 ]\n",
            "[0.9844126  0.01558736]\n",
            "[0.9865706  0.01342932]\n",
            "[0.70876044 0.2912395 ]\n",
            "[0.8301027  0.16989735]\n",
            "[0.01512733 0.9848727 ]\n",
            "[0.7543036  0.24569626]\n",
            "[0.60461086 0.39538914]\n",
            "[0.98731303 0.01268706]\n",
            "[0.01652233 0.9834777 ]\n",
            "[0.00889109 0.9911089 ]\n",
            "[0.01384845 0.9861515 ]\n",
            "[0.00744287 0.99255717]\n",
            "[0.01267629 0.9873236 ]\n",
            "[0.86040807 0.13959192]\n",
            "[0.05111423 0.9488858 ]\n",
            "[0.98824    0.01176002]\n",
            "[0.43235013 0.5676498 ]\n",
            "[0.05564038 0.9443596 ]\n",
            "[0.980114   0.01988599]\n",
            "[0.27502936 0.72497064]\n",
            "[0.98618364 0.01381636]\n",
            "[0.98644286 0.01355714]\n",
            "[0.01512733 0.9848727 ]\n",
            "[0.9658346  0.03416543]\n",
            "[0.98604405 0.01395585]\n",
            "[0.93851984 0.06148026]\n",
            "[0.03326683 0.9667332 ]\n",
            "[0.9883509  0.01164895]\n",
            "[0.01512733 0.9848727 ]\n",
            "[0.86040807 0.13959192]\n",
            "[0.03627298 0.96372706]\n",
            "[0.3764609 0.6235391]\n",
            "[0.04693798 0.95306194]\n",
            "[0.01652233 0.9834777 ]\n",
            "[0.9879847  0.01201527]\n",
            "[0.98707014 0.01292987]\n",
            "[0.9871185  0.01288156]\n",
            "[0.9658346  0.03416543]\n",
            "[0.97741944 0.0225805 ]\n",
            "[0.98801464 0.01198531]\n",
            "[0.98835105 0.01164895]\n",
            "[0.00971669 0.9902833 ]\n",
            "[0.9879005  0.01209954]\n",
            "[0.05564038 0.9443596 ]\n",
            "[0.8301027  0.16989735]\n",
            "[0.9877851  0.01221485]\n",
            "[0.02562458 0.9743753 ]\n",
            "[0.0234794  0.97652066]\n",
            "[0.7543036  0.24569626]\n",
            "[0.27502936 0.72497064]\n",
            "[0.03627298 0.96372706]\n",
            "[0.19249028 0.8075097 ]\n",
            "[0.98578566 0.0142144 ]\n",
            "[0.92523044 0.07476959]\n",
            "[0.03953969 0.9604604 ]\n",
            "[0.03050189 0.96949816]\n",
            "[0.01804363 0.98195636]\n",
            "[0.01970218 0.9802977 ]\n",
            "[0.0088911  0.99110895]\n",
            "[0.9385198  0.06148025]\n",
            "[0.86040807 0.13959192]\n",
            "[0.98604405 0.01395585]\n",
            "[0.43235013 0.5676498 ]\n",
            "[0.98669726 0.0133027 ]\n",
            "[0.98766875 0.01233124]\n",
            "[0.9743694  0.02563059]\n",
            "[0.980114   0.01988599]\n",
            "[0.9879005  0.01209954]\n",
            "[0.9856504  0.01434958]\n",
            "[0.00813508 0.99186486]\n",
            "[0.01160218 0.9883978 ]\n",
            "[0.05564038 0.9443596 ]\n",
            "[0.65859586 0.34140417]\n",
            "[0.86040807 0.13959192]\n",
            "[0.02150986 0.9784902 ]\n",
            "[0.49001595 0.5099841 ]\n",
            "[0.98846114 0.01153892]\n",
            "[0.32367697 0.67632306]\n",
            "[0.03050189 0.96949816]\n",
            "[0.98824    0.01176002]\n",
            "[0.02796012 0.9720399 ]\n",
            "[0.9869469  0.01305298]\n",
            "[0.06153506 0.938465  ]\n",
            "[0.07067467 0.92932534]\n",
            "[0.92523044 0.07476959]\n",
            "[0.98731303 0.01268706]\n",
            "[0.98669726 0.0133027 ]\n",
            "[0.98631376 0.01368614]\n",
            "[0.98766875 0.01233124]\n",
            "[0.01512733 0.9848727 ]\n",
            "[0.98835105 0.01164895]\n",
            "[0.93851984 0.06148026]\n",
            "[0.98731303 0.01268706]\n",
            "[0.32367697 0.67632306]\n",
            "[0.01970218 0.9802977 ]\n",
            "[0.9879847  0.01201527]\n",
            "[0.01384845 0.9861515 ]\n",
            "[0.98537624 0.01462373]\n",
            "[0.03953969 0.9604604 ]\n",
            "[0.13027091 0.86972904]\n",
            "[0.98618364 0.01381636]\n",
            "[0.01160218 0.9883977 ]\n",
            "[0.03326683 0.9667332 ]\n",
            "[0.02796012 0.97203994]\n",
            "[0.7947873  0.20521265]\n",
            "[0.9855139  0.01448601]\n",
            "[0.07067467 0.92932534]\n",
            "[0.43235013 0.5676498 ]\n",
            "[0.02562458 0.9743753 ]\n",
            "[0.06153506 0.93846494]\n",
            "[0.01061812 0.9893819 ]\n",
            "[0.9868228  0.01317726]\n",
            "[0.05564038 0.9443596 ]\n",
            "[0.98537624 0.01462373]\n",
            "[0.02150986 0.9784902 ]\n",
            "[0.02150986 0.9784902 ]\n",
            "[0.19249028 0.8075097 ]\n",
            "[0.98249274 0.01750724]\n",
            "[0.03627297 0.963727  ]\n",
            "[0.32367697 0.67632306]\n",
            "[0.086161 0.913839]\n",
            "[0.98604405 0.01395585]\n",
            "[0.9074877 0.0925122]\n",
            "[0.9855139  0.01448601]\n",
            "[0.54794896 0.45205104]\n",
            "[0.04308746 0.9569126 ]\n",
            "[0.2750294 0.7249707]\n",
            "[0.98249274 0.01750724]\n",
            "[0.98731303 0.01268706]\n",
            "[0.01160218 0.9883978 ]\n",
            "[0.27502936 0.72497064]\n",
            "[0.8301027  0.16989735]\n",
            "[0.9881278  0.01187214]\n",
            "[0.7947873  0.20521265]\n",
            "[0.07067467 0.92932534]\n",
            "[0.980114   0.01988599]\n",
            "[0.07067467 0.92932534]\n",
            "[0.54794896 0.45205104]\n",
            "[0.0234794  0.97652066]\n",
            "[0.9774195  0.02258051]\n",
            "[0.98669726 0.0133027 ]\n",
            "[0.0088911  0.99110895]\n",
            "[0.07067467 0.92932534]\n",
            "[0.9074877 0.0925122]\n",
            "[0.01267629 0.9873236 ]\n",
            "[0.98605204 0.0139478 ]\n",
            "[0.0234794  0.97652066]\n",
            "[0.01061812 0.98938185]\n",
            "[0.98644286 0.01355714]\n",
            "[0.9494403  0.05055967]\n",
            "[0.01384845 0.9861515 ]\n",
            "[0.10613018 0.8938698 ]\n",
            "[0.19249028 0.8075097 ]\n",
            "[0.98605204 0.0139478 ]\n",
            "[0.3764609 0.6235391]\n",
            "[0.05564038 0.9443596 ]\n",
            "[0.07067467 0.92932534]\n",
            "[0.9868228  0.01317726]\n",
            "[0.00813508 0.99186486]\n",
            "[0.03050189 0.96949816]\n",
            "[0.9883996  0.01160032]\n",
            "[0.98631376 0.01368614]\n",
            "[0.93851984 0.06148026]\n",
            "[0.01970218 0.9802977 ]\n",
            "[0.0234794  0.97652066]\n",
            "[0.9879005  0.01209954]\n",
            "[0.98604405 0.01395585]\n",
            "[0.01652233 0.9834777 ]\n",
            "[0.92523044 0.07476959]\n",
            "[0.23119384 0.76880616]\n",
            "[0.90748775 0.0925122 ]\n",
            "[0.98669726 0.0133027 ]\n",
            "[0.01061812 0.98938185]\n",
            "[0.01267629 0.9873236 ]\n",
            "[0.43235013 0.5676498 ]\n",
            "[0.9869469  0.01305298]\n",
            "[0.03953969 0.9604604 ]\n",
            "[0.70876044 0.2912395 ]\n",
            "[0.98441255 0.01558736]\n",
            "[0.987313   0.01268706]\n",
            "[0.9774195  0.02258051]\n",
            "[0.98631376 0.01368614]\n",
            "[0.01160218 0.9883977 ]\n",
            "[0.9879847  0.01201527]\n",
            "[0.03953969 0.9604604 ]\n",
            "[0.05111423 0.9488858 ]\n",
            "[0.01512733 0.9848727 ]\n",
            "[0.98441255 0.01558736]\n",
            "[0.01652233 0.9834777 ]\n",
            "[0.05111423 0.9488858 ]\n",
            "[0.8301026  0.16989733]\n",
            "[0.98719215 0.01280789]\n",
            "[0.9879005  0.01209954]\n",
            "[0.9855139  0.01448601]\n",
            "[0.86040807 0.13959192]\n",
            "[0.03953969 0.9604604 ]\n",
            "[0.00744287 0.99255717]\n",
            "[0.15892643 0.84107363]\n",
            "[0.98846114 0.01153892]\n",
            "[0.32367697 0.67632306]\n",
            "[0.02796012 0.9720399 ]\n",
            "[0.01267629 0.9873236 ]\n",
            "[0.01384845 0.9861515 ]\n",
            "[0.43235013 0.5676498 ]\n",
            "[0.9494403  0.05055967]\n",
            "[0.00744287 0.99255717]\n",
            "[0.93851984 0.06148026]\n",
            "[0.3764609 0.6235391]\n",
            "[0.60461086 0.39538914]\n",
            "[0.01804363 0.9819564 ]\n",
            "[0.9868227  0.01317726]\n"
          ]
        }
      ]
    },
    {
      "cell_type": "code",
      "metadata": {
        "id": "84nxG5IoX5dg"
      },
      "source": [
        "rounded_predictions=np.argmax(predictions,axis=-1)"
      ],
      "execution_count": null,
      "outputs": []
    },
    {
      "cell_type": "code",
      "metadata": {
        "colab": {
          "base_uri": "https://localhost:8080/"
        },
        "id": "rGXdu-HkYQYo",
        "outputId": "e2ac7801-e305-480f-c1de-a54a17958ed6"
      },
      "source": [
        "for i in rounded_predictions:\n",
        "  print(i)"
      ],
      "execution_count": null,
      "outputs": [
        {
          "output_type": "stream",
          "name": "stdout",
          "text": [
            "0\n",
            "0\n",
            "1\n",
            "0\n",
            "0\n",
            "1\n",
            "0\n",
            "0\n",
            "1\n",
            "1\n",
            "1\n",
            "0\n",
            "1\n",
            "1\n",
            "0\n",
            "0\n",
            "0\n",
            "0\n",
            "0\n",
            "0\n",
            "0\n",
            "1\n",
            "0\n",
            "1\n",
            "1\n",
            "0\n",
            "0\n",
            "1\n",
            "0\n",
            "0\n",
            "0\n",
            "0\n",
            "0\n",
            "1\n",
            "0\n",
            "1\n",
            "1\n",
            "0\n",
            "0\n",
            "0\n",
            "1\n",
            "1\n",
            "0\n",
            "1\n",
            "1\n",
            "0\n",
            "1\n",
            "1\n",
            "1\n",
            "1\n",
            "0\n",
            "1\n",
            "0\n",
            "0\n",
            "1\n",
            "0\n",
            "0\n",
            "1\n",
            "0\n",
            "0\n",
            "1\n",
            "1\n",
            "1\n",
            "1\n",
            "1\n",
            "0\n",
            "0\n",
            "1\n",
            "1\n",
            "0\n",
            "1\n",
            "1\n",
            "0\n",
            "1\n",
            "1\n",
            "1\n",
            "0\n",
            "0\n",
            "1\n",
            "1\n",
            "0\n",
            "1\n",
            "0\n",
            "0\n",
            "0\n",
            "1\n",
            "1\n",
            "0\n",
            "1\n",
            "0\n",
            "0\n",
            "1\n",
            "0\n",
            "1\n",
            "0\n",
            "1\n",
            "0\n",
            "1\n",
            "1\n",
            "1\n",
            "1\n",
            "0\n",
            "1\n",
            "0\n",
            "1\n",
            "0\n",
            "0\n",
            "1\n",
            "1\n",
            "1\n",
            "1\n",
            "1\n",
            "0\n",
            "0\n",
            "0\n",
            "1\n",
            "0\n",
            "0\n",
            "0\n",
            "1\n",
            "1\n",
            "0\n",
            "0\n",
            "1\n",
            "1\n",
            "1\n",
            "1\n",
            "0\n",
            "1\n",
            "0\n",
            "1\n",
            "1\n",
            "0\n",
            "0\n",
            "1\n",
            "0\n",
            "1\n",
            "1\n",
            "1\n",
            "1\n",
            "1\n",
            "1\n",
            "1\n",
            "1\n",
            "1\n",
            "0\n",
            "0\n",
            "0\n",
            "0\n",
            "1\n",
            "1\n",
            "0\n",
            "1\n",
            "1\n",
            "0\n",
            "0\n",
            "1\n",
            "0\n",
            "0\n",
            "0\n",
            "1\n",
            "1\n",
            "0\n",
            "0\n",
            "1\n",
            "0\n",
            "1\n",
            "0\n",
            "0\n",
            "1\n",
            "0\n",
            "0\n",
            "1\n",
            "1\n",
            "1\n",
            "1\n",
            "1\n",
            "1\n",
            "0\n",
            "1\n",
            "1\n",
            "1\n",
            "0\n",
            "0\n",
            "1\n",
            "0\n",
            "0\n",
            "1\n",
            "1\n",
            "0\n",
            "0\n",
            "0\n",
            "0\n",
            "0\n",
            "0\n",
            "0\n",
            "0\n",
            "1\n",
            "0\n",
            "1\n",
            "1\n",
            "1\n",
            "0\n",
            "0\n",
            "1\n",
            "0\n",
            "0\n",
            "1\n",
            "1\n",
            "0\n",
            "0\n",
            "0\n",
            "0\n",
            "1\n",
            "0\n",
            "0\n",
            "0\n",
            "1\n",
            "1\n",
            "1\n",
            "1\n",
            "1\n",
            "0\n",
            "1\n",
            "0\n",
            "1\n",
            "1\n",
            "0\n",
            "1\n",
            "0\n",
            "0\n",
            "1\n",
            "0\n",
            "0\n",
            "0\n",
            "1\n",
            "0\n",
            "1\n",
            "0\n",
            "1\n",
            "1\n",
            "1\n",
            "1\n",
            "0\n",
            "0\n",
            "0\n",
            "0\n",
            "0\n",
            "0\n",
            "0\n",
            "1\n",
            "0\n",
            "1\n",
            "0\n",
            "0\n",
            "1\n",
            "1\n",
            "0\n",
            "1\n",
            "1\n",
            "1\n",
            "0\n",
            "0\n",
            "1\n",
            "1\n",
            "1\n",
            "1\n",
            "1\n",
            "0\n",
            "0\n",
            "0\n",
            "1\n",
            "0\n",
            "0\n",
            "0\n",
            "0\n",
            "0\n",
            "0\n",
            "1\n",
            "1\n",
            "1\n",
            "0\n",
            "0\n",
            "1\n",
            "1\n",
            "0\n",
            "1\n",
            "1\n",
            "0\n",
            "1\n",
            "0\n",
            "1\n",
            "1\n",
            "0\n",
            "0\n",
            "0\n",
            "0\n",
            "0\n",
            "1\n",
            "0\n",
            "0\n",
            "0\n",
            "1\n",
            "1\n",
            "0\n",
            "1\n",
            "0\n",
            "1\n",
            "1\n",
            "0\n",
            "1\n",
            "1\n",
            "1\n",
            "0\n",
            "0\n",
            "1\n",
            "1\n",
            "1\n",
            "1\n",
            "1\n",
            "0\n",
            "1\n",
            "0\n",
            "1\n",
            "1\n",
            "1\n",
            "0\n",
            "1\n",
            "1\n",
            "1\n",
            "0\n",
            "0\n",
            "0\n",
            "0\n",
            "1\n",
            "1\n",
            "0\n",
            "0\n",
            "1\n",
            "1\n",
            "0\n",
            "0\n",
            "0\n",
            "1\n",
            "0\n",
            "1\n",
            "0\n",
            "1\n",
            "0\n",
            "0\n",
            "1\n",
            "1\n",
            "0\n",
            "1\n",
            "0\n",
            "1\n",
            "1\n",
            "0\n",
            "0\n",
            "1\n",
            "1\n",
            "1\n",
            "0\n",
            "1\n",
            "1\n",
            "1\n",
            "0\n",
            "1\n",
            "1\n",
            "0\n",
            "0\n",
            "0\n",
            "1\n",
            "1\n",
            "0\n",
            "0\n",
            "1\n",
            "0\n",
            "1\n",
            "0\n",
            "0\n",
            "1\n",
            "1\n",
            "1\n",
            "0\n",
            "1\n",
            "0\n",
            "0\n",
            "0\n",
            "0\n",
            "0\n",
            "1\n",
            "0\n",
            "1\n",
            "1\n",
            "1\n",
            "0\n",
            "1\n",
            "1\n",
            "0\n",
            "0\n",
            "0\n",
            "0\n",
            "0\n",
            "1\n",
            "1\n",
            "1\n",
            "0\n",
            "1\n",
            "1\n",
            "1\n",
            "1\n",
            "1\n",
            "0\n",
            "1\n",
            "0\n",
            "1\n",
            "0\n",
            "1\n",
            "0\n"
          ]
        }
      ]
    },
    {
      "cell_type": "markdown",
      "metadata": {
        "id": "XfUMGtFHZE5g"
      },
      "source": [
        "## Confusion Matrix"
      ]
    },
    {
      "cell_type": "code",
      "metadata": {
        "id": "7QhcgGDrZJoH"
      },
      "source": [
        "%matplotlib inline\n",
        "from sklearn.metrics import confusion_matrix\n",
        "import itertools\n",
        "import matplotlib.pyplot as plt\n"
      ],
      "execution_count": null,
      "outputs": []
    },
    {
      "cell_type": "code",
      "metadata": {
        "id": "wZUINiDgZpvt"
      },
      "source": [
        "cm=confusion_matrix(y_true=test_labels,y_pred=rounded_predictions)"
      ],
      "execution_count": null,
      "outputs": []
    },
    {
      "cell_type": "code",
      "metadata": {
        "id": "y9YL4URWaeWn"
      },
      "source": [
        "\n",
        "def plot_confusion_matrix(cm,classes,normalize=False,\n",
        "                          title='Confusion matrix',\n",
        "                          cmap=plt.cm.Blues):\n",
        "    \"\"\"\n",
        "    given a sklearn confusion matrix (cm), make a nice plot\n",
        "\n",
        "    Arguments\n",
        "    ---------\n",
        "    cm:           confusion matrix from sklearn.metrics.confusion_matrix\n",
        "\n",
        "    target_names: given classification classes such as [0, 1, 2]\n",
        "                  the class names, for example: ['high', 'medium', 'low']\n",
        "\n",
        "    title:        the text to display at the top of the matrix\n",
        "\n",
        "    cmap:         the gradient of the values displayed from matplotlib.pyplot.cm\n",
        "                  see http://matplotlib.org/examples/color/colormaps_reference.html\n",
        "                  plt.get_cmap('jet') or plt.cm.Blues\n",
        "\n",
        "    normalize:    If False, plot the raw numbers\n",
        "                  If True, plot the proportions\n",
        "\n",
        "    Usage\n",
        "    -----\n",
        "    plot_confusion_matrix(cm           = cm,                  # confusion matrix created by\n",
        "                                                              # sklearn.metrics.confusion_matrix\n",
        "                          normalize    = True,                # show proportions\n",
        "                          target_names = y_labels_vals,       # list of names of the classes\n",
        "                          title        = best_estimator_name) # title of graph\n",
        "\n",
        "  \"\"\"\n",
        "   \n",
        "    plt.imshow(cm, interpolation='nearest', cmap=cmap)\n",
        "    plt.title(title)\n",
        "    plt.colorbar()\n",
        "    tick_marks = np.arange(len(classes))\n",
        "    plt.xticks(tick_marks,classes, rotation=45)\n",
        "    plt.yticks(tick_marks,classes)\n",
        "\n",
        "    if normalize:\n",
        "        cm = cm.astype('float') / cm.sum(axis=1)[:, np.newaxis]\n",
        "        print(\"Normalized Confusion Matrix\")\n",
        "    else:\n",
        "        print('Confusion Matrix,without Normalization')\n",
        "    print(cm)\n",
        "\n",
        "\n",
        "    thresh = cm.max() / 2\n",
        "    for i, j in itertools.product(range(cm.shape[0]), range(cm.shape[1])):\n",
        "      \n",
        "            plt.text(j, i, cm[i, j],\n",
        "                     horizontalalignment=\"center\",\n",
        "                     color=\"white\" if cm[i, j] > thresh else \"black\")\n",
        "      \n",
        "\n",
        "\n",
        "    plt.tight_layout()\n",
        "    plt.ylabel('True label')\n",
        "    plt.xlabel('Predicted label')"
      ],
      "execution_count": null,
      "outputs": []
    },
    {
      "cell_type": "code",
      "metadata": {
        "id": "J3msmpoAfsxd"
      },
      "source": [],
      "execution_count": null,
      "outputs": []
    },
    {
      "cell_type": "code",
      "metadata": {
        "colab": {
          "base_uri": "https://localhost:8080/",
          "height": 362
        },
        "id": "BNQe7-glgKDJ",
        "outputId": "c361749f-9971-48d0-9405-27daf793f2ba"
      },
      "source": [
        "cm_plot_labels=['no_side_effects','had _side_effects']\n",
        "plot_confusion_matrix(cm=cm,classes=cm_plot_labels,title='Confusion Matrix')"
      ],
      "execution_count": null,
      "outputs": [
        {
          "output_type": "stream",
          "text": [
            "Confusion Matrix,without Normalization\n",
            "[[191  19]\n",
            " [ 10 200]]\n"
          ],
          "name": "stdout"
        },
        {
          "output_type": "display_data",
          "data": {
            "image/png": "[encoded data removed]",
            "text/plain": [
              "<Figure size 432x288 with 2 Axes>"
            ]
          },
          "metadata": {
            "tags": []
          }
        }
      ]
    },
    {
      "cell_type": "markdown",
      "metadata": {
        "id": "VByyOiNhssZt"
      },
      "source": [
        "## Save and Load a Model"
      ]
    },
    {
      "cell_type": "code",
      "metadata": {
        "colab": {
          "base_uri": "https://localhost:8080/"
        },
        "id": "m8mG9cnliNQm",
        "outputId": "b8c2a0ae-178c-4c8d-a9eb-1206800e6b6f"
      },
      "source": [
        "model.summary()"
      ],
      "execution_count": null,
      "outputs": [
        {
          "output_type": "stream",
          "text": [
            "Model: \"sequential_8\"\n",
            "_________________________________________________________________\n",
            "Layer (type)                 Output Shape              Param #   \n",
            "=================================================================\n",
            "dense_24 (Dense)             (None, 16)                32        \n",
            "_________________________________________________________________\n",
            "dense_25 (Dense)             (None, 32)                544       \n",
            "_________________________________________________________________\n",
            "dense_26 (Dense)             (None, 2)                 66        \n",
            "=================================================================\n",
            "Total params: 642\n",
            "Trainable params: 642\n",
            "Non-trainable params: 0\n",
            "_________________________________________________________________\n"
          ],
          "name": "stdout"
        }
      ]
    },
    {
      "cell_type": "markdown",
      "metadata": {
        "id": "uHzioBbbidXQ"
      },
      "source": [
        "### 1.model.save"
      ]
    },
    {
      "cell_type": "code",
      "metadata": {
        "id": "LqKszJGsiiCR"
      },
      "source": [
        "import os.path\n",
        "if os.path.isfile('models/medical_trial_model.h5') is False:\n",
        "  model.save('models/medical_trial_model.h5') #save architecture,allowing to recreate the model,weights of model,training configuration(loss,optimizer),state of optimizer,allowing to resume training exacly where we left off"
      ],
      "execution_count": null,
      "outputs": []
    },
    {
      "cell_type": "code",
      "metadata": {
        "id": "qdaKDPb_jNpS"
      },
      "source": [
        "from tensorflow.keras.models import load_model\n",
        "new_model=load_model('models/medical_trial_model.h5')"
      ],
      "execution_count": null,
      "outputs": []
    },
    {
      "cell_type": "code",
      "metadata": {
        "colab": {
          "base_uri": "https://localhost:8080/"
        },
        "id": "uYX8uoTKjbd6",
        "outputId": "66ee1a1f-c2b8-4b4c-e435-49418cb10e6e"
      },
      "source": [
        "new_model.summary()"
      ],
      "execution_count": null,
      "outputs": [
        {
          "output_type": "stream",
          "text": [
            "Model: \"sequential_8\"\n",
            "_________________________________________________________________\n",
            "Layer (type)                 Output Shape              Param #   \n",
            "=================================================================\n",
            "dense_24 (Dense)             (None, 16)                32        \n",
            "_________________________________________________________________\n",
            "dense_25 (Dense)             (None, 32)                544       \n",
            "_________________________________________________________________\n",
            "dense_26 (Dense)             (None, 2)                 66        \n",
            "=================================================================\n",
            "Total params: 642\n",
            "Trainable params: 642\n",
            "Non-trainable params: 0\n",
            "_________________________________________________________________\n"
          ],
          "name": "stdout"
        }
      ]
    },
    {
      "cell_type": "code",
      "metadata": {
        "colab": {
          "base_uri": "https://localhost:8080/"
        },
        "id": "URQE_-M2jgLN",
        "outputId": "272ffebd-cfcf-42c9-feab-188adcc11638"
      },
      "source": [
        "new_model.get_weights()"
      ],
      "execution_count": null,
      "outputs": [
        {
          "output_type": "execute_result",
          "data": {
            "text/plain": [
              "[array([[-0.45961857,  0.3029455 , -0.1461199 ,  0.51454914,  0.7189963 ,\n",
              "          0.6442492 , -0.50901115, -0.07750553,  0.5428519 ,  0.06784812,\n",
              "          0.40108368, -0.45583954,  0.21239555, -0.5711283 , -0.47688413,\n",
              "         -0.12767744]], dtype=float32),\n",
              " array([ 0.        ,  0.15569475,  0.        , -0.14459051,  0.02684681,\n",
              "        -0.14197293,  0.        ,  0.        , -0.13935748,  0.2605563 ,\n",
              "        -0.12636338,  0.        , -0.07954004,  0.        ,  0.        ,\n",
              "         0.        ], dtype=float32),\n",
              " array([[-0.15906869, -0.2612875 , -0.16969493, -0.1247153 , -0.2436843 ,\n",
              "         -0.13204338, -0.34689343,  0.25298795, -0.20090517,  0.04284725,\n",
              "          0.18029091,  0.33665118, -0.04166064,  0.10426188,  0.1364108 ,\n",
              "          0.06518432, -0.35343376, -0.2505003 , -0.15559672, -0.23713848,\n",
              "         -0.08204964,  0.2609848 , -0.1550382 , -0.1690328 ,  0.10019147,\n",
              "          0.25237104, -0.26835144,  0.19295791,  0.26651904, -0.2359893 ,\n",
              "         -0.25266725,  0.1520054 ],\n",
              "        [-0.18590468, -0.30177793,  0.08460514,  0.09639939,  0.03187524,\n",
              "          0.10093823,  0.10446532, -0.29762334, -0.01276074,  0.01197194,\n",
              "          0.325715  , -0.26609126,  0.2863094 ,  0.22476257,  0.31628394,\n",
              "         -0.30588546,  0.07171015,  0.38174522, -0.20501079, -0.15156546,\n",
              "          0.3581652 ,  0.18730053, -0.06757522,  0.17807855,  0.23406327,\n",
              "          0.21269639,  0.42623368,  0.19527695, -0.19218996, -0.26075062,\n",
              "          0.09082145,  0.28686398],\n",
              "        [ 0.17146239, -0.25114506, -0.24005124,  0.33866832,  0.06937867,\n",
              "         -0.0668653 , -0.1661932 , -0.2122474 , -0.2455971 ,  0.28126296,\n",
              "         -0.03953207, -0.32210526, -0.05672199, -0.32374948,  0.14886805,\n",
              "         -0.23712483,  0.01766154, -0.33582735, -0.07184967,  0.289767  ,\n",
              "          0.20496246, -0.12461507,  0.22817579,  0.22350231, -0.08334497,\n",
              "          0.3023716 , -0.14370069,  0.30771396, -0.20830557,  0.03573799,\n",
              "          0.22941676,  0.23986831],\n",
              "        [-0.08625102,  0.23796573, -0.28416488,  0.4585427 , -0.0320943 ,\n",
              "         -0.50550884, -0.17403865, -0.0863499 , -0.37175763, -0.36833876,\n",
              "          0.46849713, -0.18753578, -0.16802607,  0.08453817, -0.5011801 ,\n",
              "         -0.15671827,  0.26046622,  0.04167031,  0.44283035,  0.0524553 ,\n",
              "         -0.01192355,  0.01307732,  0.31666932, -0.25254735, -0.3625044 ,\n",
              "          0.48024273,  0.46256113, -0.31982216, -0.04862019, -0.2172252 ,\n",
              "          0.23624876, -0.06289573],\n",
              "        [ 0.4889777 ,  0.02540082,  0.04585174, -0.1672497 ,  0.3714659 ,\n",
              "          0.22902432,  0.13454266,  0.18428732,  0.22938234,  0.08545502,\n",
              "          0.13917091, -0.15409873, -0.04942048, -0.22681667,  0.02811185,\n",
              "          0.14423008,  0.42185032,  0.02285891,  0.16180323, -0.18564054,\n",
              "         -0.3526143 , -0.32306394,  0.04799169, -0.14159207, -0.0960805 ,\n",
              "          0.4142829 ,  0.16810445,  0.03962025,  0.02430281,  0.08064564,\n",
              "         -0.0246513 , -0.10093321],\n",
              "        [ 0.24457826, -0.2582984 , -0.1502509 ,  0.52005744,  0.48902574,\n",
              "         -0.45756963, -0.24686319, -0.40440977, -0.14467616, -0.15370747,\n",
              "          0.51295435,  0.09904331, -0.25185522,  0.18564005,  0.13733535,\n",
              "         -0.40521428,  0.5863091 ,  0.10002118,  0.26019448,  0.13611852,\n",
              "          0.0789618 ,  0.00497383, -0.30061373, -0.2772694 , -0.17212123,\n",
              "          0.23273517, -0.13508429, -0.3396614 , -0.19096197, -0.28069204,\n",
              "          0.4757329 , -0.3724192 ],\n",
              "        [ 0.19770637,  0.15140429,  0.04875192, -0.22242713,  0.2006109 ,\n",
              "          0.07645911,  0.25885794,  0.10113236,  0.21648452,  0.17817041,\n",
              "         -0.13168141,  0.2777504 ,  0.08851901, -0.1908781 , -0.27554497,\n",
              "          0.04459685,  0.3180075 , -0.12308355,  0.15285555, -0.31487286,\n",
              "         -0.34068072,  0.26471135,  0.16677067, -0.12024571,  0.20899603,\n",
              "         -0.05758169,  0.00564456,  0.07105747, -0.14014703,  0.03752729,\n",
              "         -0.10329315, -0.06506479],\n",
              "        [-0.09424743,  0.17273411, -0.1158713 ,  0.254805  ,  0.13849825,\n",
              "         -0.26015276, -0.27637476, -0.22772422,  0.20178607,  0.07907525,\n",
              "         -0.17942074,  0.02564821,  0.0586358 , -0.30079684, -0.19530024,\n",
              "         -0.282126  ,  0.09423596, -0.3181819 , -0.3212018 ,  0.20184132,\n",
              "         -0.08752695,  0.1375089 ,  0.33290145, -0.16556191, -0.09545723,\n",
              "         -0.25166422, -0.08276427, -0.11524111, -0.12986565,  0.06221727,\n",
              "          0.15364775, -0.12954828],\n",
              "        [ 0.5640222 ,  0.11717185, -0.08397723,  0.00563631, -0.04427715,\n",
              "          0.11005758, -0.0763043 , -0.47674447, -0.17442262, -0.27900392,\n",
              "          0.1511016 , -0.21722376, -0.14985996,  0.00878981, -0.5168249 ,\n",
              "          0.00884407,  0.39446208,  0.3406563 ,  0.5403389 ,  0.21709384,\n",
              "         -0.5004604 , -0.20905149, -0.15461133,  0.10586948, -0.22124556,\n",
              "          0.5687497 ,  0.20076132, -0.03363857,  0.33057877, -0.20422769,\n",
              "          0.41030937, -0.42376524],\n",
              "        [-0.21907191, -0.10179502,  0.2350238 ,  0.35191742,  0.08144507,\n",
              "          0.12017508, -0.07666333,  0.42896423,  0.06205752,  0.38169435,\n",
              "         -0.17027967,  0.07370117, -0.34443516,  0.17093135,  0.01463336,\n",
              "          0.3302501 ,  0.11874082,  0.17545791,  0.15096842, -0.1437816 ,\n",
              "          0.3939195 , -0.3218647 , -0.20436525,  0.14475623,  0.3162649 ,\n",
              "          0.02043117,  0.17756133,  0.18498538, -0.16972257,  0.17124681,\n",
              "          0.01960726,  0.10565364],\n",
              "        [ 0.07902958,  0.18753222, -0.14880936,  0.44078267,  0.42982724,\n",
              "         -0.51732826,  0.20682302, -0.02640866, -0.24494763, -0.40222365,\n",
              "          0.0111476 , -0.3526779 , -0.08812484,  0.09131478, -0.41747677,\n",
              "         -0.49053973,  0.04928108,  0.40891457,  0.5613213 ,  0.23811224,\n",
              "         -0.52272546, -0.04353103,  0.01708415, -0.29240796, -0.27118993,\n",
              "          0.52053016,  0.37971172, -0.00444935,  0.13201371, -0.3282243 ,\n",
              "         -0.03734144,  0.03162195],\n",
              "        [ 0.32662752,  0.24965957,  0.17821047, -0.32283753,  0.28551766,\n",
              "         -0.14405102, -0.31100976,  0.31138536, -0.12988874,  0.2926341 ,\n",
              "          0.2996628 , -0.31991675, -0.29494464, -0.33005306,  0.08724785,\n",
              "          0.1389589 , -0.26078075,  0.10488099, -0.2875997 , -0.21195708,\n",
              "         -0.10383187,  0.04256889, -0.25817204, -0.09106931, -0.03720286,\n",
              "          0.20323834, -0.13094604,  0.18258223, -0.00718942, -0.1041339 ,\n",
              "         -0.07152724, -0.2246835 ],\n",
              "        [ 0.19140652, -0.23388922, -0.55263215,  0.2836939 ,  0.39127275,\n",
              "         -0.31843525,  0.23278669, -0.21299854,  0.23473138, -0.6616713 ,\n",
              "          0.31759724, -0.25435144, -0.08380994, -0.3864124 , -0.18359697,\n",
              "         -0.15193291,  0.22268587,  0.06048931,  0.6439104 , -0.18175118,\n",
              "         -0.5638218 , -0.21245813,  0.27290943, -0.34766585, -0.39650348,\n",
              "          0.10955769,  0.2688137 ,  0.1504931 , -0.15605898,  0.35271004,\n",
              "          0.48448235, -0.42860875],\n",
              "        [ 0.276601  ,  0.13535705, -0.3295386 , -0.3109033 , -0.12581281,\n",
              "          0.20830783, -0.00876796,  0.05734685,  0.06723553,  0.26212302,\n",
              "         -0.30333972, -0.21622345,  0.21594873, -0.10972822, -0.10933162,\n",
              "          0.01842424,  0.02907264,  0.3106207 ,  0.05293283, -0.13583727,\n",
              "         -0.12925468, -0.29755336, -0.26998368,  0.18253115,  0.35102174,\n",
              "         -0.33947355, -0.25499845, -0.00721225, -0.13755281,  0.32704982,\n",
              "          0.2594811 ,  0.26990464],\n",
              "        [ 0.34717974,  0.03379276, -0.19750713,  0.07056713, -0.01367733,\n",
              "         -0.17746504, -0.29980746,  0.10799742,  0.12502122, -0.11340234,\n",
              "         -0.21431765, -0.3119177 , -0.30737588,  0.2835156 , -0.12903097,\n",
              "          0.2976111 ,  0.15979418,  0.2954655 ,  0.33172366,  0.26836964,\n",
              "         -0.3013776 , -0.252908  , -0.2634318 , -0.04809007, -0.25892317,\n",
              "         -0.24580598, -0.1979929 ,  0.10866225, -0.22843668, -0.26809406,\n",
              "          0.14800665,  0.1153523 ],\n",
              "        [-0.2939692 , -0.14607668,  0.27661434, -0.06954837,  0.12326106,\n",
              "         -0.18837154, -0.24303398, -0.07754827, -0.27094522, -0.14142518,\n",
              "          0.2727802 ,  0.34117147,  0.33021715, -0.3140022 , -0.08958852,\n",
              "          0.15095702,  0.06023932, -0.34738123, -0.16818658,  0.29723278,\n",
              "         -0.191097  , -0.08147037, -0.00363246, -0.06040773, -0.232129  ,\n",
              "          0.02995831,  0.24584928,  0.01825657, -0.23040333,  0.11908829,\n",
              "          0.25674972, -0.10278243]], dtype=float32),\n",
              " array([-0.06397167,  0.        ,  0.09890061, -0.1078177 , -0.11075372,\n",
              "         0.18317454, -0.02708929,  0.2046155 , -0.05938016,  0.19809361,\n",
              "        -0.09102857,  0.        , -0.00067759,  0.08152841,  0.18112747,\n",
              "         0.22120582, -0.12581702, -0.10704751, -0.06811994, -0.02196529,\n",
              "         0.22250058,  0.        ,  0.        ,  0.18660378,  0.17913352,\n",
              "        -0.10962446, -0.11043578, -0.08506435,  0.        , -0.01151843,\n",
              "        -0.06183944,  0.22129765], dtype=float32),\n",
              " array([[-0.15275352,  0.6016059 ],\n",
              "        [-0.05293888, -0.2755895 ],\n",
              "        [ 0.3006122 , -0.4784778 ],\n",
              "        [-0.4415351 ,  0.22893573],\n",
              "        [-0.346064  ,  0.20686425],\n",
              "        [ 0.77498275, -0.47042164],\n",
              "        [-0.30377036,  0.33826005],\n",
              "        [ 0.81706136, -0.43524006],\n",
              "        [-0.31582767, -0.14784087],\n",
              "        [ 0.30183372, -0.5980806 ],\n",
              "        [-0.45424178, -0.1039057 ],\n",
              "        [ 0.18613842,  0.06415933],\n",
              "        [-0.40498063,  0.02769566],\n",
              "        [ 0.31535968,  0.14571409],\n",
              "        [ 0.8245497 , -0.6585596 ],\n",
              "        [ 0.5771629 , -0.3642843 ],\n",
              "        [-0.28135693,  0.12531906],\n",
              "        [-0.23421718,  0.6139209 ],\n",
              "        [-0.14462568,  0.54687905],\n",
              "        [-0.05945445, -0.25179386],\n",
              "        [ 0.17344731, -0.72815585],\n",
              "        [-0.02857265, -0.1643377 ],\n",
              "        [ 0.3032057 ,  0.35573468],\n",
              "        [ 0.5009236 , -0.83744764],\n",
              "        [ 0.79191506, -0.4783192 ],\n",
              "        [-0.57298356,  0.01536429],\n",
              "        [-0.48628536,  0.15032713],\n",
              "        [ 0.03019085,  0.23269865],\n",
              "        [-0.24529818,  0.22605434],\n",
              "        [-0.22552666,  0.03188171],\n",
              "        [-0.66100836,  0.05468582],\n",
              "        [ 0.6188424 , -0.49740025]], dtype=float32),\n",
              " array([ 0.09634079, -0.0963408 ], dtype=float32)]"
            ]
          },
          "metadata": {
            "tags": []
          },
          "execution_count": 42
        }
      ]
    },
    {
      "cell_type": "code",
      "metadata": {
        "colab": {
          "base_uri": "https://localhost:8080/"
        },
        "id": "IO0z6zz1jrUw",
        "outputId": "1551a59a-9a79-4a5e-c521-5f970a3e7893"
      },
      "source": [
        "new_model.optimizer"
      ],
      "execution_count": null,
      "outputs": [
        {
          "output_type": "execute_result",
          "data": {
            "text/plain": [
              "<tensorflow.python.keras.optimizer_v2.adam.Adam at 0x7fab638aff90>"
            ]
          },
          "metadata": {
            "tags": []
          },
          "execution_count": 43
        }
      ]
    },
    {
      "cell_type": "markdown",
      "metadata": {
        "id": "aT73UuQdj2LX"
      },
      "source": [
        "### 2.model.to_json()"
      ]
    },
    {
      "cell_type": "code",
      "metadata": {
        "id": "u_zJja6gj8T8"
      },
      "source": [
        "# save as JSON\n",
        "json_string=model.to_json()   # only save the architecture of model\n",
        "\n",
        "# save as YAML\n",
        "# yaml_string=model.to_yaml()"
      ],
      "execution_count": null,
      "outputs": []
    },
    {
      "cell_type": "code",
      "metadata": {
        "colab": {
          "base_uri": "https://localhost:8080/",
          "height": 137
        },
        "id": "FGRP03U9kMhr",
        "outputId": "ec56ab27-ff8e-497f-e90b-0729ad6f819a"
      },
      "source": [
        "json_string"
      ],
      "execution_count": null,
      "outputs": [
        {
          "output_type": "execute_result",
          "data": {
            "application/vnd.google.colaboratory.intrinsic+json": {
              "type": "string"
            },
            "text/plain": [
              "'{\"class_name\": \"Sequential\", \"config\": {\"name\": \"sequential_8\", \"layers\": [{\"class_name\": \"InputLayer\", \"config\": {\"batch_input_shape\": [null, 1], \"dtype\": \"float32\", \"sparse\": false, \"ragged\": false, \"name\": \"dense_24_input\"}}, {\"class_name\": \"Dense\", \"config\": {\"name\": \"dense_24\", \"trainable\": true, \"batch_input_shape\": [null, 1], \"dtype\": \"float32\", \"units\": 16, \"activation\": \"relu\", \"use_bias\": true, \"kernel_initializer\": {\"class_name\": \"GlorotUniform\", \"config\": {\"seed\": null}}, \"bias_initializer\": {\"class_name\": \"Zeros\", \"config\": {}}, \"kernel_regularizer\": null, \"bias_regularizer\": null, \"activity_regularizer\": null, \"kernel_constraint\": null, \"bias_constraint\": null}}, {\"class_name\": \"Dense\", \"config\": {\"name\": \"dense_25\", \"trainable\": true, \"dtype\": \"float32\", \"units\": 32, \"activation\": \"relu\", \"use_bias\": true, \"kernel_initializer\": {\"class_name\": \"GlorotUniform\", \"config\": {\"seed\": null}}, \"bias_initializer\": {\"class_name\": \"Zeros\", \"config\": {}}, \"kernel_regularizer\": null, \"bias_regularizer\": null, \"activity_regularizer\": null, \"kernel_constraint\": null, \"bias_constraint\": null}}, {\"class_name\": \"Dense\", \"config\": {\"name\": \"dense_26\", \"trainable\": true, \"dtype\": \"float32\", \"units\": 2, \"activation\": \"softmax\", \"use_bias\": true, \"kernel_initializer\": {\"class_name\": \"GlorotUniform\", \"config\": {\"seed\": null}}, \"bias_initializer\": {\"class_name\": \"Zeros\", \"config\": {}}, \"kernel_regularizer\": null, \"bias_regularizer\": null, \"activity_regularizer\": null, \"kernel_constraint\": null, \"bias_constraint\": null}}]}, \"keras_version\": \"2.5.0\", \"backend\": \"tensorflow\"}'"
            ]
          },
          "metadata": {
            "tags": []
          },
          "execution_count": 45
        }
      ]
    },
    {
      "cell_type": "code",
      "metadata": {
        "id": "4CxADhvhkPr9"
      },
      "source": [
        "from tensorflow.keras.models import model_from_json\n",
        "model_architecture=model_from_json(json_string)"
      ],
      "execution_count": null,
      "outputs": []
    },
    {
      "cell_type": "code",
      "metadata": {
        "colab": {
          "base_uri": "https://localhost:8080/"
        },
        "id": "3y2JEyw4kgGD",
        "outputId": "78c78c48-4be5-475f-92b6-eb7f86cde25b"
      },
      "source": [
        "model_architecture.summary()"
      ],
      "execution_count": null,
      "outputs": [
        {
          "output_type": "stream",
          "text": [
            "Model: \"sequential_8\"\n",
            "_________________________________________________________________\n",
            "Layer (type)                 Output Shape              Param #   \n",
            "=================================================================\n",
            "dense_24 (Dense)             (None, 16)                32        \n",
            "_________________________________________________________________\n",
            "dense_25 (Dense)             (None, 32)                544       \n",
            "_________________________________________________________________\n",
            "dense_26 (Dense)             (None, 2)                 66        \n",
            "=================================================================\n",
            "Total params: 642\n",
            "Trainable params: 642\n",
            "Non-trainable params: 0\n",
            "_________________________________________________________________\n"
          ],
          "name": "stdout"
        }
      ]
    },
    {
      "cell_type": "markdown",
      "metadata": {
        "id": "B2PCayhMkmjz"
      },
      "source": [
        "### 3.model.save_weights()"
      ]
    },
    {
      "cell_type": "code",
      "metadata": {
        "id": "VhHgurSgkzYt",
        "colab": {
          "base_uri": "https://localhost:8080/",
          "height": 476
        },
        "outputId": "c16b961b-fd98-4c25-cfca-1f0ced43ec9e"
      },
      "source": [
        "import os.path\n",
        "if os.path.isfile('models/my_model_weights.h5') is False:\n",
        "  model.save_weights('models/my_model_weights.h5')"
      ],
      "execution_count": null,
      "outputs": [
        {
          "output_type": "error",
          "ename": "OSError",
          "evalue": "ignored",
          "traceback": [
            "\u001b[0;31m---------------------------------------------------------------------------\u001b[0m",
            "\u001b[0;31mOSError\u001b[0m                                   Traceback (most recent call last)",
            "\u001b[0;32m<ipython-input-26-a03d5d78470c>\u001b[0m in \u001b[0;36m<module>\u001b[0;34m()\u001b[0m\n\u001b[1;32m      1\u001b[0m \u001b[0;32mimport\u001b[0m \u001b[0mos\u001b[0m\u001b[0;34m.\u001b[0m\u001b[0mpath\u001b[0m\u001b[0;34m\u001b[0m\u001b[0;34m\u001b[0m\u001b[0m\n\u001b[1;32m      2\u001b[0m \u001b[0;32mif\u001b[0m \u001b[0mos\u001b[0m\u001b[0;34m.\u001b[0m\u001b[0mpath\u001b[0m\u001b[0;34m.\u001b[0m\u001b[0misfile\u001b[0m\u001b[0;34m(\u001b[0m\u001b[0;34m'models/my_model_weights.h5'\u001b[0m\u001b[0;34m)\u001b[0m \u001b[0;32mis\u001b[0m \u001b[0;32mFalse\u001b[0m\u001b[0;34m:\u001b[0m\u001b[0;34m\u001b[0m\u001b[0;34m\u001b[0m\u001b[0m\n\u001b[0;32m----> 3\u001b[0;31m   \u001b[0mmodel\u001b[0m\u001b[0;34m.\u001b[0m\u001b[0msave_weights\u001b[0m\u001b[0;34m(\u001b[0m\u001b[0;34m'models/my_model_weights.h5'\u001b[0m\u001b[0;34m)\u001b[0m\u001b[0;34m\u001b[0m\u001b[0;34m\u001b[0m\u001b[0m\n\u001b[0m",
            "\u001b[0;32m/usr/local/lib/python3.7/dist-packages/tensorflow/python/keras/engine/training.py\u001b[0m in \u001b[0;36msave_weights\u001b[0;34m(self, filepath, overwrite, save_format, options)\u001b[0m\n\u001b[1;32m   2215\u001b[0m         \u001b[0;32mreturn\u001b[0m\u001b[0;34m\u001b[0m\u001b[0;34m\u001b[0m\u001b[0m\n\u001b[1;32m   2216\u001b[0m     \u001b[0;32mif\u001b[0m \u001b[0msave_format\u001b[0m \u001b[0;34m==\u001b[0m \u001b[0;34m'h5'\u001b[0m\u001b[0;34m:\u001b[0m\u001b[0;34m\u001b[0m\u001b[0;34m\u001b[0m\u001b[0m\n\u001b[0;32m-> 2217\u001b[0;31m       \u001b[0;32mwith\u001b[0m \u001b[0mh5py\u001b[0m\u001b[0;34m.\u001b[0m\u001b[0mFile\u001b[0m\u001b[0;34m(\u001b[0m\u001b[0mfilepath\u001b[0m\u001b[0;34m,\u001b[0m \u001b[0;34m'w'\u001b[0m\u001b[0;34m)\u001b[0m \u001b[0;32mas\u001b[0m \u001b[0mf\u001b[0m\u001b[0;34m:\u001b[0m\u001b[0;34m\u001b[0m\u001b[0;34m\u001b[0m\u001b[0m\n\u001b[0m\u001b[1;32m   2218\u001b[0m         \u001b[0mhdf5_format\u001b[0m\u001b[0;34m.\u001b[0m\u001b[0msave_weights_to_hdf5_group\u001b[0m\u001b[0;34m(\u001b[0m\u001b[0mf\u001b[0m\u001b[0;34m,\u001b[0m \u001b[0mself\u001b[0m\u001b[0;34m.\u001b[0m\u001b[0mlayers\u001b[0m\u001b[0;34m)\u001b[0m\u001b[0;34m\u001b[0m\u001b[0;34m\u001b[0m\u001b[0m\n\u001b[1;32m   2219\u001b[0m     \u001b[0;32melse\u001b[0m\u001b[0;34m:\u001b[0m\u001b[0;34m\u001b[0m\u001b[0;34m\u001b[0m\u001b[0m\n",
            "\u001b[0;32m/usr/local/lib/python3.7/dist-packages/h5py/_hl/files.py\u001b[0m in \u001b[0;36m__init__\u001b[0;34m(self, name, mode, driver, libver, userblock_size, swmr, rdcc_nslots, rdcc_nbytes, rdcc_w0, track_order, fs_strategy, fs_persist, fs_threshold, **kwds)\u001b[0m\n\u001b[1;32m    425\u001b[0m                                fapl, fcpl=make_fcpl(track_order=track_order, fs_strategy=fs_strategy,\n\u001b[1;32m    426\u001b[0m                                fs_persist=fs_persist, fs_threshold=fs_threshold),\n\u001b[0;32m--> 427\u001b[0;31m                                swmr=swmr)\n\u001b[0m\u001b[1;32m    428\u001b[0m \u001b[0;34m\u001b[0m\u001b[0m\n\u001b[1;32m    429\u001b[0m             \u001b[0;32mif\u001b[0m \u001b[0misinstance\u001b[0m\u001b[0;34m(\u001b[0m\u001b[0mlibver\u001b[0m\u001b[0;34m,\u001b[0m \u001b[0mtuple\u001b[0m\u001b[0;34m)\u001b[0m\u001b[0;34m:\u001b[0m\u001b[0;34m\u001b[0m\u001b[0;34m\u001b[0m\u001b[0m\n",
            "\u001b[0;32m/usr/local/lib/python3.7/dist-packages/h5py/_hl/files.py\u001b[0m in \u001b[0;36mmake_fid\u001b[0;34m(name, mode, userblock_size, fapl, fcpl, swmr)\u001b[0m\n\u001b[1;32m    194\u001b[0m         \u001b[0mfid\u001b[0m \u001b[0;34m=\u001b[0m \u001b[0mh5f\u001b[0m\u001b[0;34m.\u001b[0m\u001b[0mcreate\u001b[0m\u001b[0;34m(\u001b[0m\u001b[0mname\u001b[0m\u001b[0;34m,\u001b[0m \u001b[0mh5f\u001b[0m\u001b[0;34m.\u001b[0m\u001b[0mACC_EXCL\u001b[0m\u001b[0;34m,\u001b[0m \u001b[0mfapl\u001b[0m\u001b[0;34m=\u001b[0m\u001b[0mfapl\u001b[0m\u001b[0;34m,\u001b[0m \u001b[0mfcpl\u001b[0m\u001b[0;34m=\u001b[0m\u001b[0mfcpl\u001b[0m\u001b[0;34m)\u001b[0m\u001b[0;34m\u001b[0m\u001b[0;34m\u001b[0m\u001b[0m\n\u001b[1;32m    195\u001b[0m     \u001b[0;32melif\u001b[0m \u001b[0mmode\u001b[0m \u001b[0;34m==\u001b[0m \u001b[0;34m'w'\u001b[0m\u001b[0;34m:\u001b[0m\u001b[0;34m\u001b[0m\u001b[0;34m\u001b[0m\u001b[0m\n\u001b[0;32m--> 196\u001b[0;31m         \u001b[0mfid\u001b[0m \u001b[0;34m=\u001b[0m \u001b[0mh5f\u001b[0m\u001b[0;34m.\u001b[0m\u001b[0mcreate\u001b[0m\u001b[0;34m(\u001b[0m\u001b[0mname\u001b[0m\u001b[0;34m,\u001b[0m \u001b[0mh5f\u001b[0m\u001b[0;34m.\u001b[0m\u001b[0mACC_TRUNC\u001b[0m\u001b[0;34m,\u001b[0m \u001b[0mfapl\u001b[0m\u001b[0;34m=\u001b[0m\u001b[0mfapl\u001b[0m\u001b[0;34m,\u001b[0m \u001b[0mfcpl\u001b[0m\u001b[0;34m=\u001b[0m\u001b[0mfcpl\u001b[0m\u001b[0;34m)\u001b[0m\u001b[0;34m\u001b[0m\u001b[0;34m\u001b[0m\u001b[0m\n\u001b[0m\u001b[1;32m    197\u001b[0m     \u001b[0;32melif\u001b[0m \u001b[0mmode\u001b[0m \u001b[0;34m==\u001b[0m \u001b[0;34m'a'\u001b[0m\u001b[0;34m:\u001b[0m\u001b[0;34m\u001b[0m\u001b[0;34m\u001b[0m\u001b[0m\n\u001b[1;32m    198\u001b[0m         \u001b[0;31m# Open in append mode (read/write).\u001b[0m\u001b[0;34m\u001b[0m\u001b[0;34m\u001b[0m\u001b[0;34m\u001b[0m\u001b[0m\n",
            "\u001b[0;32mh5py/_objects.pyx\u001b[0m in \u001b[0;36mh5py._objects.with_phil.wrapper\u001b[0;34m()\u001b[0m\n",
            "\u001b[0;32mh5py/_objects.pyx\u001b[0m in \u001b[0;36mh5py._objects.with_phil.wrapper\u001b[0;34m()\u001b[0m\n",
            "\u001b[0;32mh5py/h5f.pyx\u001b[0m in \u001b[0;36mh5py.h5f.create\u001b[0;34m()\u001b[0m\n",
            "\u001b[0;31mOSError\u001b[0m: Unable to create file (unable to open file: name = 'models/my_model_weights.h5', errno = 2, error message = 'No such file or directory', flags = 13, o_flags = 242)"
          ]
        }
      ]
    },
    {
      "cell_type": "code",
      "metadata": {
        "id": "vVj9OEXMll4y"
      },
      "source": [],
      "execution_count": null,
      "outputs": []
    },
    {
      "cell_type": "code",
      "metadata": {
        "id": "6W1pm9l0lAIS"
      },
      "source": [
        "model2=Sequential([                                                            #dense means fully connected layer in ANN\n",
        "                  Dense(units=16, input_shape=(1,), activation='relu'), # 1 hidden layer with 16 nodes with relu activation\n",
        "                  Dense(units=32, activation='relu'),                   # 2 hidden layer with 32 nodes with relu activation\n",
        "                  Dense(units=2, activation='softmax')                  # output layer with 2 possible outcomes with softmax activation\n",
        "])"
      ],
      "execution_count": null,
      "outputs": []
    },
    {
      "cell_type": "code",
      "metadata": {
        "id": "iqNvBHSKlNj7"
      },
      "source": [
        "model2.load_weights('models/my_model_weights.h5')"
      ],
      "execution_count": null,
      "outputs": []
    },
    {
      "cell_type": "code",
      "metadata": {
        "colab": {
          "base_uri": "https://localhost:8080/"
        },
        "id": "Z6a6Ttn7lnyJ",
        "outputId": "1c9ce52e-2aa3-4a60-e8e1-e5dfc36a7f35"
      },
      "source": [
        "model2.get_weights()"
      ],
      "execution_count": null,
      "outputs": [
        {
          "output_type": "execute_result",
          "data": {
            "text/plain": [
              "[array([[-0.45961857,  0.3029455 , -0.1461199 ,  0.51454914,  0.7189963 ,\n",
              "          0.6442492 , -0.50901115, -0.07750553,  0.5428519 ,  0.06784812,\n",
              "          0.40108368, -0.45583954,  0.21239555, -0.5711283 , -0.47688413,\n",
              "         -0.12767744]], dtype=float32),\n",
              " array([ 0.        ,  0.15569475,  0.        , -0.14459051,  0.02684681,\n",
              "        -0.14197293,  0.        ,  0.        , -0.13935748,  0.2605563 ,\n",
              "        -0.12636338,  0.        , -0.07954004,  0.        ,  0.        ,\n",
              "         0.        ], dtype=float32),\n",
              " array([[-0.15906869, -0.2612875 , -0.16969493, -0.1247153 , -0.2436843 ,\n",
              "         -0.13204338, -0.34689343,  0.25298795, -0.20090517,  0.04284725,\n",
              "          0.18029091,  0.33665118, -0.04166064,  0.10426188,  0.1364108 ,\n",
              "          0.06518432, -0.35343376, -0.2505003 , -0.15559672, -0.23713848,\n",
              "         -0.08204964,  0.2609848 , -0.1550382 , -0.1690328 ,  0.10019147,\n",
              "          0.25237104, -0.26835144,  0.19295791,  0.26651904, -0.2359893 ,\n",
              "         -0.25266725,  0.1520054 ],\n",
              "        [-0.18590468, -0.30177793,  0.08460514,  0.09639939,  0.03187524,\n",
              "          0.10093823,  0.10446532, -0.29762334, -0.01276074,  0.01197194,\n",
              "          0.325715  , -0.26609126,  0.2863094 ,  0.22476257,  0.31628394,\n",
              "         -0.30588546,  0.07171015,  0.38174522, -0.20501079, -0.15156546,\n",
              "          0.3581652 ,  0.18730053, -0.06757522,  0.17807855,  0.23406327,\n",
              "          0.21269639,  0.42623368,  0.19527695, -0.19218996, -0.26075062,\n",
              "          0.09082145,  0.28686398],\n",
              "        [ 0.17146239, -0.25114506, -0.24005124,  0.33866832,  0.06937867,\n",
              "         -0.0668653 , -0.1661932 , -0.2122474 , -0.2455971 ,  0.28126296,\n",
              "         -0.03953207, -0.32210526, -0.05672199, -0.32374948,  0.14886805,\n",
              "         -0.23712483,  0.01766154, -0.33582735, -0.07184967,  0.289767  ,\n",
              "          0.20496246, -0.12461507,  0.22817579,  0.22350231, -0.08334497,\n",
              "          0.3023716 , -0.14370069,  0.30771396, -0.20830557,  0.03573799,\n",
              "          0.22941676,  0.23986831],\n",
              "        [-0.08625102,  0.23796573, -0.28416488,  0.4585427 , -0.0320943 ,\n",
              "         -0.50550884, -0.17403865, -0.0863499 , -0.37175763, -0.36833876,\n",
              "          0.46849713, -0.18753578, -0.16802607,  0.08453817, -0.5011801 ,\n",
              "         -0.15671827,  0.26046622,  0.04167031,  0.44283035,  0.0524553 ,\n",
              "         -0.01192355,  0.01307732,  0.31666932, -0.25254735, -0.3625044 ,\n",
              "          0.48024273,  0.46256113, -0.31982216, -0.04862019, -0.2172252 ,\n",
              "          0.23624876, -0.06289573],\n",
              "        [ 0.4889777 ,  0.02540082,  0.04585174, -0.1672497 ,  0.3714659 ,\n",
              "          0.22902432,  0.13454266,  0.18428732,  0.22938234,  0.08545502,\n",
              "          0.13917091, -0.15409873, -0.04942048, -0.22681667,  0.02811185,\n",
              "          0.14423008,  0.42185032,  0.02285891,  0.16180323, -0.18564054,\n",
              "         -0.3526143 , -0.32306394,  0.04799169, -0.14159207, -0.0960805 ,\n",
              "          0.4142829 ,  0.16810445,  0.03962025,  0.02430281,  0.08064564,\n",
              "         -0.0246513 , -0.10093321],\n",
              "        [ 0.24457826, -0.2582984 , -0.1502509 ,  0.52005744,  0.48902574,\n",
              "         -0.45756963, -0.24686319, -0.40440977, -0.14467616, -0.15370747,\n",
              "          0.51295435,  0.09904331, -0.25185522,  0.18564005,  0.13733535,\n",
              "         -0.40521428,  0.5863091 ,  0.10002118,  0.26019448,  0.13611852,\n",
              "          0.0789618 ,  0.00497383, -0.30061373, -0.2772694 , -0.17212123,\n",
              "          0.23273517, -0.13508429, -0.3396614 , -0.19096197, -0.28069204,\n",
              "          0.4757329 , -0.3724192 ],\n",
              "        [ 0.19770637,  0.15140429,  0.04875192, -0.22242713,  0.2006109 ,\n",
              "          0.07645911,  0.25885794,  0.10113236,  0.21648452,  0.17817041,\n",
              "         -0.13168141,  0.2777504 ,  0.08851901, -0.1908781 , -0.27554497,\n",
              "          0.04459685,  0.3180075 , -0.12308355,  0.15285555, -0.31487286,\n",
              "         -0.34068072,  0.26471135,  0.16677067, -0.12024571,  0.20899603,\n",
              "         -0.05758169,  0.00564456,  0.07105747, -0.14014703,  0.03752729,\n",
              "         -0.10329315, -0.06506479],\n",
              "        [-0.09424743,  0.17273411, -0.1158713 ,  0.254805  ,  0.13849825,\n",
              "         -0.26015276, -0.27637476, -0.22772422,  0.20178607,  0.07907525,\n",
              "         -0.17942074,  0.02564821,  0.0586358 , -0.30079684, -0.19530024,\n",
              "         -0.282126  ,  0.09423596, -0.3181819 , -0.3212018 ,  0.20184132,\n",
              "         -0.08752695,  0.1375089 ,  0.33290145, -0.16556191, -0.09545723,\n",
              "         -0.25166422, -0.08276427, -0.11524111, -0.12986565,  0.06221727,\n",
              "          0.15364775, -0.12954828],\n",
              "        [ 0.5640222 ,  0.11717185, -0.08397723,  0.00563631, -0.04427715,\n",
              "          0.11005758, -0.0763043 , -0.47674447, -0.17442262, -0.27900392,\n",
              "          0.1511016 , -0.21722376, -0.14985996,  0.00878981, -0.5168249 ,\n",
              "          0.00884407,  0.39446208,  0.3406563 ,  0.5403389 ,  0.21709384,\n",
              "         -0.5004604 , -0.20905149, -0.15461133,  0.10586948, -0.22124556,\n",
              "          0.5687497 ,  0.20076132, -0.03363857,  0.33057877, -0.20422769,\n",
              "          0.41030937, -0.42376524],\n",
              "        [-0.21907191, -0.10179502,  0.2350238 ,  0.35191742,  0.08144507,\n",
              "          0.12017508, -0.07666333,  0.42896423,  0.06205752,  0.38169435,\n",
              "         -0.17027967,  0.07370117, -0.34443516,  0.17093135,  0.01463336,\n",
              "          0.3302501 ,  0.11874082,  0.17545791,  0.15096842, -0.1437816 ,\n",
              "          0.3939195 , -0.3218647 , -0.20436525,  0.14475623,  0.3162649 ,\n",
              "          0.02043117,  0.17756133,  0.18498538, -0.16972257,  0.17124681,\n",
              "          0.01960726,  0.10565364],\n",
              "        [ 0.07902958,  0.18753222, -0.14880936,  0.44078267,  0.42982724,\n",
              "         -0.51732826,  0.20682302, -0.02640866, -0.24494763, -0.40222365,\n",
              "          0.0111476 , -0.3526779 , -0.08812484,  0.09131478, -0.41747677,\n",
              "         -0.49053973,  0.04928108,  0.40891457,  0.5613213 ,  0.23811224,\n",
              "         -0.52272546, -0.04353103,  0.01708415, -0.29240796, -0.27118993,\n",
              "          0.52053016,  0.37971172, -0.00444935,  0.13201371, -0.3282243 ,\n",
              "         -0.03734144,  0.03162195],\n",
              "        [ 0.32662752,  0.24965957,  0.17821047, -0.32283753,  0.28551766,\n",
              "         -0.14405102, -0.31100976,  0.31138536, -0.12988874,  0.2926341 ,\n",
              "          0.2996628 , -0.31991675, -0.29494464, -0.33005306,  0.08724785,\n",
              "          0.1389589 , -0.26078075,  0.10488099, -0.2875997 , -0.21195708,\n",
              "         -0.10383187,  0.04256889, -0.25817204, -0.09106931, -0.03720286,\n",
              "          0.20323834, -0.13094604,  0.18258223, -0.00718942, -0.1041339 ,\n",
              "         -0.07152724, -0.2246835 ],\n",
              "        [ 0.19140652, -0.23388922, -0.55263215,  0.2836939 ,  0.39127275,\n",
              "         -0.31843525,  0.23278669, -0.21299854,  0.23473138, -0.6616713 ,\n",
              "          0.31759724, -0.25435144, -0.08380994, -0.3864124 , -0.18359697,\n",
              "         -0.15193291,  0.22268587,  0.06048931,  0.6439104 , -0.18175118,\n",
              "         -0.5638218 , -0.21245813,  0.27290943, -0.34766585, -0.39650348,\n",
              "          0.10955769,  0.2688137 ,  0.1504931 , -0.15605898,  0.35271004,\n",
              "          0.48448235, -0.42860875],\n",
              "        [ 0.276601  ,  0.13535705, -0.3295386 , -0.3109033 , -0.12581281,\n",
              "          0.20830783, -0.00876796,  0.05734685,  0.06723553,  0.26212302,\n",
              "         -0.30333972, -0.21622345,  0.21594873, -0.10972822, -0.10933162,\n",
              "          0.01842424,  0.02907264,  0.3106207 ,  0.05293283, -0.13583727,\n",
              "         -0.12925468, -0.29755336, -0.26998368,  0.18253115,  0.35102174,\n",
              "         -0.33947355, -0.25499845, -0.00721225, -0.13755281,  0.32704982,\n",
              "          0.2594811 ,  0.26990464],\n",
              "        [ 0.34717974,  0.03379276, -0.19750713,  0.07056713, -0.01367733,\n",
              "         -0.17746504, -0.29980746,  0.10799742,  0.12502122, -0.11340234,\n",
              "         -0.21431765, -0.3119177 , -0.30737588,  0.2835156 , -0.12903097,\n",
              "          0.2976111 ,  0.15979418,  0.2954655 ,  0.33172366,  0.26836964,\n",
              "         -0.3013776 , -0.252908  , -0.2634318 , -0.04809007, -0.25892317,\n",
              "         -0.24580598, -0.1979929 ,  0.10866225, -0.22843668, -0.26809406,\n",
              "          0.14800665,  0.1153523 ],\n",
              "        [-0.2939692 , -0.14607668,  0.27661434, -0.06954837,  0.12326106,\n",
              "         -0.18837154, -0.24303398, -0.07754827, -0.27094522, -0.14142518,\n",
              "          0.2727802 ,  0.34117147,  0.33021715, -0.3140022 , -0.08958852,\n",
              "          0.15095702,  0.06023932, -0.34738123, -0.16818658,  0.29723278,\n",
              "         -0.191097  , -0.08147037, -0.00363246, -0.06040773, -0.232129  ,\n",
              "          0.02995831,  0.24584928,  0.01825657, -0.23040333,  0.11908829,\n",
              "          0.25674972, -0.10278243]], dtype=float32),\n",
              " array([-0.06397167,  0.        ,  0.09890061, -0.1078177 , -0.11075372,\n",
              "         0.18317454, -0.02708929,  0.2046155 , -0.05938016,  0.19809361,\n",
              "        -0.09102857,  0.        , -0.00067759,  0.08152841,  0.18112747,\n",
              "         0.22120582, -0.12581702, -0.10704751, -0.06811994, -0.02196529,\n",
              "         0.22250058,  0.        ,  0.        ,  0.18660378,  0.17913352,\n",
              "        -0.10962446, -0.11043578, -0.08506435,  0.        , -0.01151843,\n",
              "        -0.06183944,  0.22129765], dtype=float32),\n",
              " array([[-0.15275352,  0.6016059 ],\n",
              "        [-0.05293888, -0.2755895 ],\n",
              "        [ 0.3006122 , -0.4784778 ],\n",
              "        [-0.4415351 ,  0.22893573],\n",
              "        [-0.346064  ,  0.20686425],\n",
              "        [ 0.77498275, -0.47042164],\n",
              "        [-0.30377036,  0.33826005],\n",
              "        [ 0.81706136, -0.43524006],\n",
              "        [-0.31582767, -0.14784087],\n",
              "        [ 0.30183372, -0.5980806 ],\n",
              "        [-0.45424178, -0.1039057 ],\n",
              "        [ 0.18613842,  0.06415933],\n",
              "        [-0.40498063,  0.02769566],\n",
              "        [ 0.31535968,  0.14571409],\n",
              "        [ 0.8245497 , -0.6585596 ],\n",
              "        [ 0.5771629 , -0.3642843 ],\n",
              "        [-0.28135693,  0.12531906],\n",
              "        [-0.23421718,  0.6139209 ],\n",
              "        [-0.14462568,  0.54687905],\n",
              "        [-0.05945445, -0.25179386],\n",
              "        [ 0.17344731, -0.72815585],\n",
              "        [-0.02857265, -0.1643377 ],\n",
              "        [ 0.3032057 ,  0.35573468],\n",
              "        [ 0.5009236 , -0.83744764],\n",
              "        [ 0.79191506, -0.4783192 ],\n",
              "        [-0.57298356,  0.01536429],\n",
              "        [-0.48628536,  0.15032713],\n",
              "        [ 0.03019085,  0.23269865],\n",
              "        [-0.24529818,  0.22605434],\n",
              "        [-0.22552666,  0.03188171],\n",
              "        [-0.66100836,  0.05468582],\n",
              "        [ 0.6188424 , -0.49740025]], dtype=float32),\n",
              " array([ 0.09634079, -0.0963408 ], dtype=float32)]"
            ]
          },
          "metadata": {
            "tags": []
          },
          "execution_count": 52
        }
      ]
    }
  ]
}